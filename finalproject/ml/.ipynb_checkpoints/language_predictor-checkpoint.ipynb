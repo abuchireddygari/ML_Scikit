{
 "cells": [
  {
   "cell_type": "code",
   "execution_count": 14,
   "metadata": {
    "collapsed": false
   },
   "outputs": [
    {
     "name": "stdout",
     "output_type": "stream",
     "text": [
      "0.93093270366\n"
     ]
    }
   ],
   "source": [
    "# TASK: Build a an vectorizer that splits strings into sequence of 1 to 3\n",
    "# characters instead of word tokens using the class TfidfVectorizer\n",
    "\n",
    "vectorizer = TfidfVectorizer(ngram_range=(1,3),analyzer='char', use_idf=True)\n",
    "#X = vectorizer.fit_transform(x_train)\n",
    "#idf = vectorizer.idf_\n",
    "#print dict(zip(vectorizer.get_feature_names(), idf))\n",
    "\n",
    "\n",
    "\n",
    "# TASK: Use the function make_pipeline to build a\n",
    "#       vectorizer / classifier pipeline using the previous analyzer\n",
    "#       and a classifier of choice.\n",
    "#       The pipeline instance should be stored in a variable named model\n",
    "\n",
    "model = make_pipeline(vectorizer,RandomForestClassifier(n_estimators=1000) )\n",
    "\n",
    "# TASK: Fit the pipeline on the training set\n",
    "\n",
    "model = model.fit(x_train, y_train)\n",
    "\n",
    "# TASK: Predict the outcome on the testing set.\n",
    "# Store the result in a variable named y_predicted\n",
    "\n",
    "y_pred = model.predict(x_test)\n",
    "\n",
    "# TASK: Print the classification report\n",
    "\n",
    "from sklearn.metrics import accuracy_score\n",
    "acc = accuracy_score(y_test, y_pred)\n",
    "print(acc)\n",
    "\n",
    "#print(confusion_matrix(y_test, y_pred))\n",
    "\n",
    "#print(classification_report(y_test, y_pred))\n",
    "\n",
    "# TASK: Print the confusion matrix\n",
    "\n",
    "\n",
    "# TASK: Is the score good? Can you improve it changing\n",
    "#       the parameters or the classifier?\n",
    "#       Try using cross validation and grid search\n",
    "\n",
    "# TASK: Use dill and gz to persist the trained model in memory.\n",
    "#       1) gzip.open a file called my_model.dill.gz\n",
    "#       2) dump to the file both your trained classifier\n",
    "#          and the target_names of the dataset (for later use)\n",
    "#    They should be passed as a list [clf, dataset.target_names]\n"
   ]
  },
  {
   "cell_type": "code",
   "execution_count": null,
   "metadata": {
    "collapsed": true
   },
   "outputs": [],
   "source": []
  }
 ],
 "metadata": {
  "kernelspec": {
   "display_name": "Python 3",
   "language": "python",
   "name": "python3"
  },
  "language_info": {
   "codemirror_mode": {
    "name": "ipython",
    "version": 3
   },
   "file_extension": ".py",
   "mimetype": "text/x-python",
   "name": "python",
   "nbconvert_exporter": "python",
   "pygments_lexer": "ipython3",
   "version": "3.5.2"
  }
 },
 "nbformat": 4,
 "nbformat_minor": 2
}
