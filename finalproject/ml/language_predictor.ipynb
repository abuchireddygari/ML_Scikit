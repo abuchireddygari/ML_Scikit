{
 "cells": [
  {
   "cell_type": "code",
   "execution_count": null,
   "metadata": {
    "collapsed": true
   },
   "outputs": [],
   "source": [
    "\"\"\"Build a language detector model\n",
    "\n",
    "The goal of this exercise is to train a linear classifier on text features\n",
    "that represent sequences of up to N consecutive characters so as to be\n",
    "recognize natural languages by using the frequencies of short character\n",
    "sequences as 'fingerprints'.\n",
    "\n",
    "The script saves the trained model to disk for later use\n",
    "\"\"\"\n",
    "# Author: Olivier Grisel <olivier.grisel@ensta.org>\n",
    "# License: Simplified BSD\n",
    "# Adapted by: Francesco Mosconi\n",
    "\n",
    "import numpy as np\n",
    "\n",
    "from sklearn.datasets import load_files\n",
    "from sklearn.cross_validation import train_test_split\n",
    "from sklearn.feature_extraction.text import TfidfVectorizer\n",
    "from sklearn.pipeline import make_pipeline\n",
    "from sklearn.ensemble import RandomForestClassifier\n",
    "\n",
    "\n",
    "# The training data folder must be passed as first argument\n",
    "try:\n",
    "    dataset = load_files('./wikidata/short_paragraphs')\n",
    "except OSError as ex:\n",
    "    print(ex)\n",
    "    print(\"Couldn't import the data, try running `python fetch_data.py` first \")\n",
    "    exit(-1)\n",
    "\n",
    "\n",
    "# TASK: Split the dataset in training and test set\n",
    "# (use 20% of the data for test):\n",
    "x_train, x_test, y_train, y_test = train_test_split(\n",
    "       dataset.data, dataset.target, test_size=0.20, random_state=0)\n"
   ]
  },
  {
   "cell_type": "code",
   "execution_count": 17,
   "metadata": {
    "collapsed": false
   },
   "outputs": [
    {
     "name": "stdout",
     "output_type": "stream",
     "text": [
      "0.927390791027\n"
     ]
    },
    {
     "ename": "ImportError",
     "evalue": "No module named 'dill'",
     "output_type": "error",
     "traceback": [
      "\u001b[0;31m---------------------------------------------------------------------------\u001b[0m",
      "\u001b[0;31mImportError\u001b[0m                               Traceback (most recent call last)",
      "\u001b[0;32m<ipython-input-17-f001e542f14b>\u001b[0m in \u001b[0;36m<module>\u001b[0;34m()\u001b[0m\n\u001b[1;32m     32\u001b[0m \u001b[0;34m\u001b[0m\u001b[0m\n\u001b[1;32m     33\u001b[0m \u001b[0;34m\u001b[0m\u001b[0m\n\u001b[0;32m---> 34\u001b[0;31m \u001b[0;32mimport\u001b[0m \u001b[0mdill\u001b[0m\u001b[0;34m\u001b[0m\u001b[0m\n\u001b[0m\u001b[1;32m     35\u001b[0m \u001b[0;32mimport\u001b[0m \u001b[0mgzip\u001b[0m\u001b[0;34m\u001b[0m\u001b[0m\n\u001b[1;32m     36\u001b[0m \u001b[0;32mwith\u001b[0m \u001b[0mgzip\u001b[0m\u001b[0;34m.\u001b[0m\u001b[0mopen\u001b[0m\u001b[0;34m(\u001b[0m\u001b[0;34m'my_model.dill.gz'\u001b[0m\u001b[0;34m,\u001b[0m\u001b[0;34m'wb'\u001b[0m\u001b[0;34m)\u001b[0m \u001b[0;32mas\u001b[0m \u001b[0mf\u001b[0m\u001b[0;34m:\u001b[0m\u001b[0;34m\u001b[0m\u001b[0m\n",
      "\u001b[0;31mImportError\u001b[0m: No module named 'dill'"
     ]
    }
   ],
   "source": [
    "# TASK: Build a an vectorizer that splits strings into sequence of 1 to 3\n",
    "# characters instead of word tokens using the class TfidfVectorizer\n",
    "\n",
    "vectorizer = TfidfVectorizer(ngram_range=(1,3),analyzer='char', use_idf=True)\n",
    "#X = vectorizer.fit_transform(x_train)\n",
    "#idf = vectorizer.idf_\n",
    "#print dict(zip(vectorizer.get_feature_names(), idf))\n",
    "\n",
    "\n",
    "\n",
    "# TASK: Use the function make_pipeline to build a\n",
    "#       vectorizer / classifier pipeline using the previous analyzer\n",
    "#       and a classifier of choice.\n",
    "#       The pipeline instance should be stored in a variable named model\n",
    "\n",
    "model = make_pipeline(vectorizer,RandomForestClassifier(n_estimators=500) )\n",
    "\n",
    "# TASK: Fit the pipeline on the training set\n",
    "\n",
    "model = model.fit(x_train, y_train)\n",
    "\n",
    "# TASK: Predict the outcome on the testing set.\n",
    "# Store the result in a variable named y_predicted\n",
    "\n",
    "y_pred = model.predict(x_test)\n",
    "\n",
    "# TASK: Print the classification report\n",
    "\n",
    "from sklearn.metrics import accuracy_score\n",
    "acc = accuracy_score(y_test, y_pred)\n",
    "print(acc)\n",
    "\n",
    "\n",
    "import dill\n",
    "import gzip\n",
    "with gzip.open('my_model.dill.gz','wb') as f:\n",
    "    dill.dump([model,dataset.target_names],f)\n",
    "#print(confusion_matrix(y_test, y_pred))\n",
    "\n",
    "#print(classification_report(y_test, y_pred))\n",
    "\n",
    "# TASK: Print the confusion matrix\n",
    "\n",
    "\n",
    "# TASK: Is the score good? Can you improve it changing\n",
    "#       the parameters or the classifier?\n",
    "#       Try using cross validation and grid search\n",
    "\n",
    "# TASK: Use dill and gz to persist the trained model in memory.\n",
    "#       1) gzip.open a file called my_model.dill.gz\n",
    "#       2) dump to the file both your trained classifier\n",
    "#          and the target_names of the dataset (for later use)\n",
    "#    They should be passed as a list [clf, dataset.target_names]\n"
   ]
  },
  {
   "cell_type": "code",
   "execution_count": null,
   "metadata": {
    "collapsed": true
   },
   "outputs": [],
   "source": []
  }
 ],
 "metadata": {
  "kernelspec": {
   "display_name": "Python 3",
   "language": "python",
   "name": "python3"
  },
  "language_info": {
   "codemirror_mode": {
    "name": "ipython",
    "version": 3
   },
   "file_extension": ".py",
   "mimetype": "text/x-python",
   "name": "python",
   "nbconvert_exporter": "python",
   "pygments_lexer": "ipython3",
   "version": "3.5.2"
  }
 },
 "nbformat": 4,
 "nbformat_minor": 2
}
