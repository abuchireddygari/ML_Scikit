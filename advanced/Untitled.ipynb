{
 "cells": [
  {
   "cell_type": "code",
   "execution_count": 23,
   "metadata": {
    "collapsed": false
   },
   "outputs": [
    {
     "data": {
      "image/png": "[encoded data removed]",
      "text/plain": [
       "<matplotlib.figure.Figure at 0x1118106a0>"
      ]
     },
     "metadata": {},
     "output_type": "display_data"
    }
   ],
   "source": [
    "import pandas as pd\n",
    "import numpy as np\n",
    "import matplotlib.pyplot as plt\n",
    "%matplotlib inline\n",
    "\n",
    "# load data\n",
    "df = pd.read_csv('../data/titanic-train.csv', index_col=None, header=0)\n",
    "\n",
    "#print(df.info)\n",
    "#print(df.shape)\n",
    "\n",
    "\n",
    "# Create new features or dummy variables\n",
    "# drop 2 cases missing on Embarked\n",
    "df = df[df['Embarked'].notnull()]\n",
    "\n",
    "# change fare to integer\n",
    "df['Fare2'] = df['Fare'].astype(int)\n",
    "\n",
    "# change pclass to categorical variables\n",
    "df['Pclass2'] = df.Pclass.map({1: 'one', 2: 'two', 3: 'three'})\n",
    "\n",
    "# dummy var for Gender == male {male: 1, female: 0}\n",
    "df['Male'] = 0\n",
    "\n",
    "df.loc[df['Sex'] == 'male', 'Male'] = 1\n",
    "\n",
    "# create dummy variables for Pclass2\n",
    "dum1 = pd.get_dummies(df['Pclass2'], prefix='Pclass2')\n",
    "df = df.join(dum1)\n",
    "\n",
    "# fill missing age data with random normalized age data based\n",
    "# on existinng data's mean and std\n",
    "seed = np.random.RandomState(1)\n",
    "df['Age2'] = df['Age'].apply(lambda x: seed.normal(df.Age.mean(),\n",
    "                                                   df.Age.std())\n",
    "                             if np.isnan(x) else x)\n",
    "df['Age2'] = df['Age2'].astype(int)\n",
    "\n",
    "\n",
    "#print('Imputed Age Mean', df['Age2'][df['Age'].isnull()].mean())\n",
    "#print('Imputed STD', df['Age2'][df['Age'].isnull()].std())\n",
    "#print('Actual Age Mean', df['Age'].mean())\n",
    "#print('Actual STD', df['Age'].std())\n",
    "\n",
    "\n",
    "# Inspect the distribution of Fare2\n",
    "a = df['Fare2'].hist(bins=50)\n",
    "plt.title('Fare2 Histogram')\n",
    "plt.show(a)\n",
    "\n",
    "# Count how many passengers paid between 10 and 50?\n",
    "df.loc[(df.Fare2 <= 50) & (df.Fare2 >= 10), 'Fare2'].value_counts()\n",
    "\n",
    "p10 = df['Fare2'][(df.Fare2 <= 10)].count()\n",
    "#print('Number of Passengers with Fare <=10:', p10)\n",
    "\n",
    "p11_50 = df['Fare2'][(df.Fare2 <= 50) & (df.Fare2 > 10)].count()\n",
    "#print('Number of Passengers with Fare 11-50:', p11_50)\n",
    "\n",
    "p51 = df['Fare2'][(df.Fare2 > 50)].count()\n",
    "#print('Number of Passengers with Fare 51+:', p51)\n",
    "\n",
    "# Create new dummy variables for Fare2 according to values in the histogram\n",
    "df['Fare3'] = ''\n",
    "df.loc[(df.Fare2 <= 10), 'Fare3'] = 'Fare<=10'\n",
    "df.loc[(df.Fare2 <= 50) & (df.Fare2 > 10), 'Fare3'] = 'Fare11to50'\n",
    "df.loc[(df.Fare2 > 50), 'Fare3'] = 'Fare51+'\n",
    "dum3 = pd.get_dummies(df['Fare3'], prefix='Fare3')\n",
    "df = df.join(dum3)\n",
    "\n",
    "\n",
    "# Exercises\n",
    "#\n",
    "# 1) create a new feature for the presence of Family combining the information\n",
    "#    present in SibSp and in Parch. If a person has a SibSp or a Parch then\n",
    "#    he/she has a Family\n",
    "\n",
    "df['Family'] = df['Parch']| df['SibSp']\n",
    "\n",
    "#print(df['Embarked'])\n",
    "\n",
    "#print(df.shape)\n",
    "#print(df.info)\n",
    "#\n",
    "# 2) create dummy variables for embarked using the get_dummies function\n",
    "#    as shown above\n",
    "dum4 = pd.get_dummies(df['Embarked'], prefix='EmbarkedOneHot')\n",
    "df = df.join(dum4)\n",
    "\n",
    "#\n",
    "# 3) save the final df to a csv file named my_new_features.csv inside\n",
    "#    the data folder using the to_csv() method\n",
    "\n",
    "df.to_csv('../data/titanic_dataset_with_family_anusha.csv',index=False)\n",
    "\n",
    "# 4) compare with the new_titanic_features.csv file\n",
    "\n",
    "\n",
    "\n",
    "# 5) use some of these techniques on another file\n",
    "#df1['e']\n",
    "# 6) Check the code in the advanced folder:\n",
    "#    05_cleaning.ipynb\n"
   ]
  },
  {
   "cell_type": "code",
   "execution_count": 5,
   "metadata": {
    "collapsed": false
   },
   "outputs": [
    {
     "name": "stdout",
     "output_type": "stream",
     "text": [
      "Requirement already satisfied: matplotlib in /Users/ceoxxx/anaconda/lib/python3.6/site-packages\r\n",
      "Requirement already satisfied: numpy>=1.7.1 in /Users/ceoxxx/anaconda/lib/python3.6/site-packages (from matplotlib)\r\n",
      "Requirement already satisfied: six>=1.10 in /Users/ceoxxx/anaconda/lib/python3.6/site-packages (from matplotlib)\r\n",
      "Requirement already satisfied: python-dateutil in /Users/ceoxxx/anaconda/lib/python3.6/site-packages (from matplotlib)\r\n",
      "Requirement already satisfied: pytz in /Users/ceoxxx/anaconda/lib/python3.6/site-packages (from matplotlib)\r\n",
      "Requirement already satisfied: cycler>=0.10 in /Users/ceoxxx/anaconda/lib/python3.6/site-packages (from matplotlib)\r\n",
      "Requirement already satisfied: pyparsing!=2.0.4,!=2.1.2,!=2.1.6,>=1.5.6 in /Users/ceoxxx/anaconda/lib/python3.6/site-packages (from matplotlib)\r\n"
     ]
    }
   ],
   "source": [
    "!pip install matplotlib"
   ]
  },
  {
   "cell_type": "code",
   "execution_count": null,
   "metadata": {
    "collapsed": true
   },
   "outputs": [],
   "source": []
  }
 ],
 "metadata": {
  "kernelspec": {
   "display_name": "Python 3",
   "language": "python",
   "name": "python3"
  },
  "language_info": {
   "codemirror_mode": {
    "name": "ipython",
    "version": 3
   },
   "file_extension": ".py",
   "mimetype": "text/x-python",
   "name": "python",
   "nbconvert_exporter": "python",
   "pygments_lexer": "ipython3",
   "version": "3.5.2"
  }
 },
 "nbformat": 4,
 "nbformat_minor": 2
}
